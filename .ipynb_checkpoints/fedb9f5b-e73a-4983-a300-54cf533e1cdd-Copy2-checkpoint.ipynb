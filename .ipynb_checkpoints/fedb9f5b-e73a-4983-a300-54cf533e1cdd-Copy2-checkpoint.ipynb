{
 "cells": [
  {
   "cell_type": "markdown",
   "metadata": {
    "toc": true
   },
   "source": [
    "<h1>Содержание<span class=\"tocSkip\"></span></h1>\n",
    "<div class=\"toc\"><ul class=\"toc-item\"><li><span><a href=\"#Подготовка-данных\" data-toc-modified-id=\"Подготовка-данных-1\"><span class=\"toc-item-num\">1&nbsp;&nbsp;</span>Подготовка данных</a></span></li><li><span><a href=\"#Исследование-задачи\" data-toc-modified-id=\"Исследование-задачи-2\"><span class=\"toc-item-num\">2&nbsp;&nbsp;</span>Исследование задачи</a></span></li><li><span><a href=\"#Борьба-с-дисбалансом\" data-toc-modified-id=\"Борьба-с-дисбалансом-3\"><span class=\"toc-item-num\">3&nbsp;&nbsp;</span>Борьба с дисбалансом</a></span></li><li><span><a href=\"#Тестирование-модели\" data-toc-modified-id=\"Тестирование-модели-4\"><span class=\"toc-item-num\">4&nbsp;&nbsp;</span>Тестирование модели</a></span></li><li><span><a href=\"#Чек-лист-готовности-проекта\" data-toc-modified-id=\"Чек-лист-готовности-проекта-5\"><span class=\"toc-item-num\">5&nbsp;&nbsp;</span>Чек-лист готовности проекта</a></span></li></ul></div>"
   ]
  },
  {
   "cell_type": "markdown",
   "metadata": {},
   "source": [
    "# Отток клиентов"
   ]
  },
  {
   "cell_type": "markdown",
   "metadata": {},
   "source": [
    "Из «Бета-Банка» стали уходить клиенты. Каждый месяц. Немного, но заметно. Банковские маркетологи посчитали: сохранять текущих клиентов дешевле, чем привлекать новых.\n",
    "\n",
    "Нужно спрогнозировать, уйдёт клиент из банка в ближайшее время или нет. Вам предоставлены исторические данные о поведении клиентов и расторжении договоров с банком. \n",
    "\n",
    "Постройте модель с предельно большим значением *F1*-меры. Чтобы сдать проект успешно, нужно довести метрику до 0.59. Проверьте *F1*-меру на тестовой выборке самостоятельно.\n",
    "\n",
    "Дополнительно измеряйте *AUC-ROC*, сравнивайте её значение с *F1*-мерой.\n",
    "\n",
    "Источник данных: [https://www.kaggle.com/barelydedicated/bank-customer-churn-modeling](https://www.kaggle.com/barelydedicated/bank-customer-churn-modeling)"
   ]
  },
  {
   "cell_type": "markdown",
   "metadata": {},
   "source": [
    "## Подготовка данных"
   ]
  },
  {
   "cell_type": "code",
   "execution_count": 14,
   "metadata": {},
   "outputs": [],
   "source": [
    "import pandas as pd\n",
    "from sklearn.ensemble import RandomForestClassifier\n",
    "from sklearn.tree import DecisionTreeClassifier\n",
    "from sklearn.linear_model import LogisticRegression\n",
    "from sklearn.metrics import accuracy_score\n",
    "from sklearn.metrics import roc_auc_score\n",
    "from sklearn.model_selection import train_test_split\n",
    "from sklearn.metrics import f1_score\n",
    "from sklearn.preprocessing import OrdinalEncoder, StandardScaler\n",
    "from sklearn.utils import shuffle\n"
   ]
  },
  {
   "cell_type": "code",
   "execution_count": 17,
   "metadata": {},
   "outputs": [],
   "source": [
    "df = pd.read_csv(\"C:/Users/andrey/Documents/Yandex_git/Churn.csv\")"
   ]
  },
  {
   "cell_type": "code",
   "execution_count": 18,
   "metadata": {},
   "outputs": [
    {
     "data": {
      "text/html": [
       "<div>\n",
       "<style scoped>\n",
       "    .dataframe tbody tr th:only-of-type {\n",
       "        vertical-align: middle;\n",
       "    }\n",
       "\n",
       "    .dataframe tbody tr th {\n",
       "        vertical-align: top;\n",
       "    }\n",
       "\n",
       "    .dataframe thead th {\n",
       "        text-align: right;\n",
       "    }\n",
       "</style>\n",
       "<table border=\"1\" class=\"dataframe\">\n",
       "  <thead>\n",
       "    <tr style=\"text-align: right;\">\n",
       "      <th></th>\n",
       "      <th>RowNumber</th>\n",
       "      <th>CustomerId</th>\n",
       "      <th>Surname</th>\n",
       "      <th>CreditScore</th>\n",
       "      <th>Geography</th>\n",
       "      <th>Gender</th>\n",
       "      <th>Age</th>\n",
       "      <th>Tenure</th>\n",
       "      <th>Balance</th>\n",
       "      <th>NumOfProducts</th>\n",
       "      <th>HasCrCard</th>\n",
       "      <th>IsActiveMember</th>\n",
       "      <th>EstimatedSalary</th>\n",
       "      <th>Exited</th>\n",
       "    </tr>\n",
       "  </thead>\n",
       "  <tbody>\n",
       "    <tr>\n",
       "      <th>0</th>\n",
       "      <td>1</td>\n",
       "      <td>15634602</td>\n",
       "      <td>Hargrave</td>\n",
       "      <td>619</td>\n",
       "      <td>France</td>\n",
       "      <td>Female</td>\n",
       "      <td>42</td>\n",
       "      <td>2.0</td>\n",
       "      <td>0.00</td>\n",
       "      <td>1</td>\n",
       "      <td>1</td>\n",
       "      <td>1</td>\n",
       "      <td>101348.88</td>\n",
       "      <td>1</td>\n",
       "    </tr>\n",
       "    <tr>\n",
       "      <th>1</th>\n",
       "      <td>2</td>\n",
       "      <td>15647311</td>\n",
       "      <td>Hill</td>\n",
       "      <td>608</td>\n",
       "      <td>Spain</td>\n",
       "      <td>Female</td>\n",
       "      <td>41</td>\n",
       "      <td>1.0</td>\n",
       "      <td>83807.86</td>\n",
       "      <td>1</td>\n",
       "      <td>0</td>\n",
       "      <td>1</td>\n",
       "      <td>112542.58</td>\n",
       "      <td>0</td>\n",
       "    </tr>\n",
       "    <tr>\n",
       "      <th>2</th>\n",
       "      <td>3</td>\n",
       "      <td>15619304</td>\n",
       "      <td>Onio</td>\n",
       "      <td>502</td>\n",
       "      <td>France</td>\n",
       "      <td>Female</td>\n",
       "      <td>42</td>\n",
       "      <td>8.0</td>\n",
       "      <td>159660.80</td>\n",
       "      <td>3</td>\n",
       "      <td>1</td>\n",
       "      <td>0</td>\n",
       "      <td>113931.57</td>\n",
       "      <td>1</td>\n",
       "    </tr>\n",
       "    <tr>\n",
       "      <th>3</th>\n",
       "      <td>4</td>\n",
       "      <td>15701354</td>\n",
       "      <td>Boni</td>\n",
       "      <td>699</td>\n",
       "      <td>France</td>\n",
       "      <td>Female</td>\n",
       "      <td>39</td>\n",
       "      <td>1.0</td>\n",
       "      <td>0.00</td>\n",
       "      <td>2</td>\n",
       "      <td>0</td>\n",
       "      <td>0</td>\n",
       "      <td>93826.63</td>\n",
       "      <td>0</td>\n",
       "    </tr>\n",
       "    <tr>\n",
       "      <th>4</th>\n",
       "      <td>5</td>\n",
       "      <td>15737888</td>\n",
       "      <td>Mitchell</td>\n",
       "      <td>850</td>\n",
       "      <td>Spain</td>\n",
       "      <td>Female</td>\n",
       "      <td>43</td>\n",
       "      <td>2.0</td>\n",
       "      <td>125510.82</td>\n",
       "      <td>1</td>\n",
       "      <td>1</td>\n",
       "      <td>1</td>\n",
       "      <td>79084.10</td>\n",
       "      <td>0</td>\n",
       "    </tr>\n",
       "  </tbody>\n",
       "</table>\n",
       "</div>"
      ],
      "text/plain": [
       "   RowNumber  CustomerId   Surname  CreditScore Geography  Gender  Age  \\\n",
       "0          1    15634602  Hargrave          619    France  Female   42   \n",
       "1          2    15647311      Hill          608     Spain  Female   41   \n",
       "2          3    15619304      Onio          502    France  Female   42   \n",
       "3          4    15701354      Boni          699    France  Female   39   \n",
       "4          5    15737888  Mitchell          850     Spain  Female   43   \n",
       "\n",
       "   Tenure    Balance  NumOfProducts  HasCrCard  IsActiveMember  \\\n",
       "0     2.0       0.00              1          1               1   \n",
       "1     1.0   83807.86              1          0               1   \n",
       "2     8.0  159660.80              3          1               0   \n",
       "3     1.0       0.00              2          0               0   \n",
       "4     2.0  125510.82              1          1               1   \n",
       "\n",
       "   EstimatedSalary  Exited  \n",
       "0        101348.88       1  \n",
       "1        112542.58       0  \n",
       "2        113931.57       1  \n",
       "3         93826.63       0  \n",
       "4         79084.10       0  "
      ]
     },
     "execution_count": 18,
     "metadata": {},
     "output_type": "execute_result"
    }
   ],
   "source": [
    "df.head()"
   ]
  },
  {
   "cell_type": "code",
   "execution_count": 36,
   "metadata": {},
   "outputs": [
    {
     "name": "stdout",
     "output_type": "stream",
     "text": [
      "<class 'pandas.core.frame.DataFrame'>\n",
      "RangeIndex: 10000 entries, 0 to 9999\n",
      "Data columns (total 14 columns):\n",
      " #   Column           Non-Null Count  Dtype  \n",
      "---  ------           --------------  -----  \n",
      " 0   RowNumber        10000 non-null  int64  \n",
      " 1   CustomerId       10000 non-null  int64  \n",
      " 2   Surname          10000 non-null  object \n",
      " 3   CreditScore      10000 non-null  int64  \n",
      " 4   Geography        10000 non-null  object \n",
      " 5   Gender           10000 non-null  object \n",
      " 6   Age              10000 non-null  int64  \n",
      " 7   Tenure           9091 non-null   float64\n",
      " 8   Balance          10000 non-null  float64\n",
      " 9   NumOfProducts    10000 non-null  int64  \n",
      " 10  HasCrCard        10000 non-null  int64  \n",
      " 11  IsActiveMember   10000 non-null  int64  \n",
      " 12  EstimatedSalary  10000 non-null  float64\n",
      " 13  Exited           10000 non-null  int64  \n",
      "dtypes: float64(3), int64(8), object(3)\n",
      "memory usage: 1.1+ MB\n"
     ]
    }
   ],
   "source": [
    "df.info()"
   ]
  },
  {
   "cell_type": "markdown",
   "metadata": {},
   "source": [
    "видим что в столбце Tenure есть пропуски , из 109, посмотрим на данные в столбце Tenure :          "
   ]
  },
  {
   "cell_type": "code",
   "execution_count": 37,
   "metadata": {},
   "outputs": [
    {
     "data": {
      "text/plain": [
       "1.0     952\n",
       "2.0     950\n",
       "8.0     933\n",
       "3.0     928\n",
       "5.0     927\n",
       "7.0     925\n",
       "4.0     885\n",
       "9.0     882\n",
       "6.0     881\n",
       "10.0    446\n",
       "0.0     382\n",
       "Name: Tenure, dtype: int64"
      ]
     },
     "execution_count": 37,
     "metadata": {},
     "output_type": "execute_result"
    }
   ],
   "source": [
    "df['Tenure'].value_counts()"
   ]
  },
  {
   "cell_type": "markdown",
   "metadata": {},
   "source": [
    "0 лет присутствует в данных ( видимо новые клиенты), предположение что пропуск это новые - не подтвердилось \n",
    "считаю что можно удалить эти строки ."
   ]
  },
  {
   "cell_type": "code",
   "execution_count": 38,
   "metadata": {},
   "outputs": [],
   "source": [
    "df.dropna(subset = ['Tenure'], inplace=True)"
   ]
  },
  {
   "cell_type": "code",
   "execution_count": 39,
   "metadata": {},
   "outputs": [
    {
     "name": "stdout",
     "output_type": "stream",
     "text": [
      "<class 'pandas.core.frame.DataFrame'>\n",
      "Int64Index: 9091 entries, 0 to 9998\n",
      "Data columns (total 14 columns):\n",
      " #   Column           Non-Null Count  Dtype  \n",
      "---  ------           --------------  -----  \n",
      " 0   RowNumber        9091 non-null   int64  \n",
      " 1   CustomerId       9091 non-null   int64  \n",
      " 2   Surname          9091 non-null   object \n",
      " 3   CreditScore      9091 non-null   int64  \n",
      " 4   Geography        9091 non-null   object \n",
      " 5   Gender           9091 non-null   object \n",
      " 6   Age              9091 non-null   int64  \n",
      " 7   Tenure           9091 non-null   float64\n",
      " 8   Balance          9091 non-null   float64\n",
      " 9   NumOfProducts    9091 non-null   int64  \n",
      " 10  HasCrCard        9091 non-null   int64  \n",
      " 11  IsActiveMember   9091 non-null   int64  \n",
      " 12  EstimatedSalary  9091 non-null   float64\n",
      " 13  Exited           9091 non-null   int64  \n",
      "dtypes: float64(3), int64(8), object(3)\n",
      "memory usage: 1.0+ MB\n"
     ]
    }
   ],
   "source": [
    "df.info() # проверим :"
   ]
  },
  {
   "cell_type": "code",
   "execution_count": 40,
   "metadata": {},
   "outputs": [],
   "source": [
    "df = df.drop(columns=['RowNumber', 'CustomerId', 'Surname'])  # delete unneeded columns"
   ]
  },
  {
   "cell_type": "code",
   "execution_count": 41,
   "metadata": {},
   "outputs": [
    {
     "name": "stdout",
     "output_type": "stream",
     "text": [
      "<class 'pandas.core.frame.DataFrame'>\n",
      "Int64Index: 9091 entries, 0 to 9998\n",
      "Data columns (total 11 columns):\n",
      " #   Column           Non-Null Count  Dtype  \n",
      "---  ------           --------------  -----  \n",
      " 0   CreditScore      9091 non-null   int64  \n",
      " 1   Geography        9091 non-null   object \n",
      " 2   Gender           9091 non-null   object \n",
      " 3   Age              9091 non-null   int64  \n",
      " 4   Tenure           9091 non-null   float64\n",
      " 5   Balance          9091 non-null   float64\n",
      " 6   NumOfProducts    9091 non-null   int64  \n",
      " 7   HasCrCard        9091 non-null   int64  \n",
      " 8   IsActiveMember   9091 non-null   int64  \n",
      " 9   EstimatedSalary  9091 non-null   float64\n",
      " 10  Exited           9091 non-null   int64  \n",
      "dtypes: float64(3), int64(6), object(2)\n",
      "memory usage: 852.3+ KB\n"
     ]
    }
   ],
   "source": [
    "df.info() # проверим"
   ]
  },
  {
   "cell_type": "markdown",
   "metadata": {},
   "source": [
    "подготовим выборку к обучению : заменим категориальные переменные на численные , разделим датасет на обучающую , валидационную и тестовую "
   ]
  },
  {
   "cell_type": "code",
   "execution_count": 42,
   "metadata": {},
   "outputs": [],
   "source": [
    "df_ohe = pd.get_dummies(df, drop_first=True) # категориальные в количественные "
   ]
  },
  {
   "cell_type": "code",
   "execution_count": 43,
   "metadata": {},
   "outputs": [
    {
     "data": {
      "text/html": [
       "<div>\n",
       "<style scoped>\n",
       "    .dataframe tbody tr th:only-of-type {\n",
       "        vertical-align: middle;\n",
       "    }\n",
       "\n",
       "    .dataframe tbody tr th {\n",
       "        vertical-align: top;\n",
       "    }\n",
       "\n",
       "    .dataframe thead th {\n",
       "        text-align: right;\n",
       "    }\n",
       "</style>\n",
       "<table border=\"1\" class=\"dataframe\">\n",
       "  <thead>\n",
       "    <tr style=\"text-align: right;\">\n",
       "      <th></th>\n",
       "      <th>CreditScore</th>\n",
       "      <th>Age</th>\n",
       "      <th>Tenure</th>\n",
       "      <th>Balance</th>\n",
       "      <th>NumOfProducts</th>\n",
       "      <th>HasCrCard</th>\n",
       "      <th>IsActiveMember</th>\n",
       "      <th>EstimatedSalary</th>\n",
       "      <th>Exited</th>\n",
       "      <th>Geography_Germany</th>\n",
       "      <th>Geography_Spain</th>\n",
       "      <th>Gender_Male</th>\n",
       "    </tr>\n",
       "  </thead>\n",
       "  <tbody>\n",
       "    <tr>\n",
       "      <th>0</th>\n",
       "      <td>619</td>\n",
       "      <td>42</td>\n",
       "      <td>2.0</td>\n",
       "      <td>0.00</td>\n",
       "      <td>1</td>\n",
       "      <td>1</td>\n",
       "      <td>1</td>\n",
       "      <td>101348.88</td>\n",
       "      <td>1</td>\n",
       "      <td>0</td>\n",
       "      <td>0</td>\n",
       "      <td>0</td>\n",
       "    </tr>\n",
       "    <tr>\n",
       "      <th>1</th>\n",
       "      <td>608</td>\n",
       "      <td>41</td>\n",
       "      <td>1.0</td>\n",
       "      <td>83807.86</td>\n",
       "      <td>1</td>\n",
       "      <td>0</td>\n",
       "      <td>1</td>\n",
       "      <td>112542.58</td>\n",
       "      <td>0</td>\n",
       "      <td>0</td>\n",
       "      <td>1</td>\n",
       "      <td>0</td>\n",
       "    </tr>\n",
       "    <tr>\n",
       "      <th>2</th>\n",
       "      <td>502</td>\n",
       "      <td>42</td>\n",
       "      <td>8.0</td>\n",
       "      <td>159660.80</td>\n",
       "      <td>3</td>\n",
       "      <td>1</td>\n",
       "      <td>0</td>\n",
       "      <td>113931.57</td>\n",
       "      <td>1</td>\n",
       "      <td>0</td>\n",
       "      <td>0</td>\n",
       "      <td>0</td>\n",
       "    </tr>\n",
       "    <tr>\n",
       "      <th>3</th>\n",
       "      <td>699</td>\n",
       "      <td>39</td>\n",
       "      <td>1.0</td>\n",
       "      <td>0.00</td>\n",
       "      <td>2</td>\n",
       "      <td>0</td>\n",
       "      <td>0</td>\n",
       "      <td>93826.63</td>\n",
       "      <td>0</td>\n",
       "      <td>0</td>\n",
       "      <td>0</td>\n",
       "      <td>0</td>\n",
       "    </tr>\n",
       "    <tr>\n",
       "      <th>4</th>\n",
       "      <td>850</td>\n",
       "      <td>43</td>\n",
       "      <td>2.0</td>\n",
       "      <td>125510.82</td>\n",
       "      <td>1</td>\n",
       "      <td>1</td>\n",
       "      <td>1</td>\n",
       "      <td>79084.10</td>\n",
       "      <td>0</td>\n",
       "      <td>0</td>\n",
       "      <td>1</td>\n",
       "      <td>0</td>\n",
       "    </tr>\n",
       "  </tbody>\n",
       "</table>\n",
       "</div>"
      ],
      "text/plain": [
       "   CreditScore  Age  Tenure    Balance  NumOfProducts  HasCrCard  \\\n",
       "0          619   42     2.0       0.00              1          1   \n",
       "1          608   41     1.0   83807.86              1          0   \n",
       "2          502   42     8.0  159660.80              3          1   \n",
       "3          699   39     1.0       0.00              2          0   \n",
       "4          850   43     2.0  125510.82              1          1   \n",
       "\n",
       "   IsActiveMember  EstimatedSalary  Exited  Geography_Germany  \\\n",
       "0               1        101348.88       1                  0   \n",
       "1               1        112542.58       0                  0   \n",
       "2               0        113931.57       1                  0   \n",
       "3               0         93826.63       0                  0   \n",
       "4               1         79084.10       0                  0   \n",
       "\n",
       "   Geography_Spain  Gender_Male  \n",
       "0                0            0  \n",
       "1                1            0  \n",
       "2                0            0  \n",
       "3                0            0  \n",
       "4                1            0  "
      ]
     },
     "execution_count": 43,
     "metadata": {},
     "output_type": "execute_result"
    }
   ],
   "source": [
    "df_ohe.head()"
   ]
  },
  {
   "cell_type": "code",
   "execution_count": 44,
   "metadata": {},
   "outputs": [],
   "source": [
    "# разделим целевой признак и признаки \n",
    "target = df_ohe['Exited']\n",
    "features = df_ohe.drop('Exited', axis=1)"
   ]
  },
  {
   "cell_type": "code",
   "execution_count": 45,
   "metadata": {},
   "outputs": [],
   "source": [
    "#разделим выборки :\n",
    "features_train, features_valid, target_train, target_valid = train_test_split(features, target, test_size=0.25, random_state=12345)\n",
    "features_valid, features_test, target_valid, target_test = train_test_split(features_valid, target_valid, test_size=0.5, random_state=12345)\n"
   ]
  },
  {
   "cell_type": "markdown",
   "metadata": {},
   "source": [
    "Импортировали все необходимые библиотеки и функции \n",
    "загрузили датасет\n",
    "Предобработку провели , строки с пропусками удалили, столбцы с ненужными данными - удалили \n",
    "подготовили датасет : изменили категориальные значения на количественные , выделили целевой признак и признаки , разделили выборку на обучающую , валидационную и тестовую ( так как тестовая не предоставлена) "
   ]
  },
  {
   "cell_type": "markdown",
   "metadata": {},
   "source": [
    "## Исследование задачи"
   ]
  },
  {
   "cell_type": "markdown",
   "metadata": {},
   "source": [
    "изучим баланс классов :"
   ]
  },
  {
   "cell_type": "code",
   "execution_count": 46,
   "metadata": {
    "scrolled": true
   },
   "outputs": [
    {
     "data": {
      "text/plain": [
       "0    7237\n",
       "1    1854\n",
       "Name: Exited, dtype: int64"
      ]
     },
     "execution_count": 46,
     "metadata": {},
     "output_type": "execute_result"
    }
   ],
   "source": [
    "df['Exited'].value_counts()"
   ]
  },
  {
   "cell_type": "markdown",
   "metadata": {},
   "source": [
    "классы не сбалансированы , соотношение 20/80"
   ]
  },
  {
   "cell_type": "markdown",
   "metadata": {},
   "source": [
    "построим модели на несбалансированных классах , рассчитаем метрики F1 и AUC ROC, подберем наилучшие гиперпараметры"
   ]
  },
  {
   "cell_type": "markdown",
   "metadata": {},
   "source": [
    "Построим случайный лес :"
   ]
  },
  {
   "cell_type": "code",
   "execution_count": 47,
   "metadata": {},
   "outputs": [
    {
     "name": "stdout",
     "output_type": "stream",
     "text": [
      "Depth 1 : 0.0\n",
      "Depth 2 : 0.18897637795275588\n",
      "Depth 3 : 0.2566037735849057\n",
      "Depth 4 : 0.4342105263157895\n",
      "Depth 5 : 0.5106382978723404\n",
      "Depth 6 : 0.5406976744186047\n",
      "Depth 7 : 0.5625\n",
      "Depth 8 : 0.5633802816901409\n",
      "Depth 9 : 0.5658263305322129\n",
      "Depth 10 : 0.5674157303370786\n",
      "Depth 11 : 0.580110497237569\n",
      "Depth 12 : 0.6182795698924731\n",
      "Depth 13 : 0.5660377358490566\n",
      "Depth 14 : 0.6137566137566137\n",
      "Depth 15 : 0.5866666666666667\n",
      "Depth 16 : 0.6041666666666666\n",
      "Depth 17 : 0.5844504021447721\n",
      "Depth 18 : 0.5767195767195767\n",
      "Depth 19 : 0.578811369509044\n",
      "Depth 20 : 0.5894736842105264\n",
      "Depth 21 : 0.5683060109289617\n",
      "Depth 22 : 0.5898123324396783\n",
      "Depth 23 : 0.584022038567493\n",
      "Depth 24 : 0.5907859078590786\n",
      "Depth 25 : 0.5768194070080862\n",
      "Depth 26 : 0.5891891891891892\n",
      "Depth 27 : 0.5869565217391305\n",
      "Depth 28 : 0.5853658536585367\n",
      "Depth 29 : 0.5876010781671158\n"
     ]
    }
   ],
   "source": [
    "#сначала подберем наилучший параметр depth:\n",
    "for depth in range(1, 30, 1):\n",
    "    model = RandomForestClassifier(n_estimators=30, max_depth=depth, random_state=12345)\n",
    "    model.fit(features_train, target_train)\n",
    "    predicted_valid = model.predict(features_valid)\n",
    "    f1 = f1_score(target_valid, predicted_valid)\n",
    "    print(\"Depth\", depth, \":\", f1)"
   ]
  },
  {
   "cell_type": "markdown",
   "metadata": {},
   "source": [
    "Depth возьмем равный 16"
   ]
  },
  {
   "cell_type": "code",
   "execution_count": 48,
   "metadata": {},
   "outputs": [
    {
     "name": "stdout",
     "output_type": "stream",
     "text": [
      "n_estimators = 20 : 0.6093749999999999\n",
      "n_estimators = 30 : 0.6041666666666666\n",
      "n_estimators = 40 : 0.6109660574412532\n",
      "n_estimators = 50 : 0.6145833333333334\n",
      "n_estimators = 60 : 0.6141732283464566\n",
      "n_estimators = 70 : 0.6121372031662269\n",
      "n_estimators = 80 : 0.6036745406824147\n",
      "n_estimators = 90 : 0.6031746031746031\n",
      "n_estimators = 100 : 0.6036745406824147\n",
      "n_estimators = 110 : 0.605263157894737\n",
      "n_estimators = 120 : 0.6015831134564644\n",
      "n_estimators = 130 : 0.6020942408376964\n",
      "n_estimators = 140 : 0.6031746031746031\n"
     ]
    }
   ],
   "source": [
    "# теперь для depth = 16 подберем наилучший n_estimators\n",
    "for est in range(20, 150, 10):\n",
    "    model = RandomForestClassifier(n_estimators=est, random_state=12345, max_depth=16)\n",
    "    model.fit(features_train, target_train)\n",
    "    predicted_valid = model.predict(features_valid)\n",
    "    f1 = f1_score(target_valid, predicted_valid)\n",
    "    print(\"n_estimators =\", est, \":\", f1)"
   ]
  },
  {
   "cell_type": "markdown",
   "metadata": {},
   "source": [
    "n_estimators возьмем = 60 "
   ]
  },
  {
   "cell_type": "code",
   "execution_count": 49,
   "metadata": {},
   "outputs": [
    {
     "name": "stdout",
     "output_type": "stream",
     "text": [
      "0.861493425472694\n"
     ]
    }
   ],
   "source": [
    "probabilities_valid_rf = model.predict_proba(features_valid)\n",
    "probabilities_one_valid_rf = probabilities_valid_rf[:, 1]\n",
    "auc_roc_rf = roc_auc_score(target_valid, probabilities_one_valid_rf)\n",
    "print(auc_roc_rf)"
   ]
  },
  {
   "cell_type": "markdown",
   "metadata": {},
   "source": [
    "Вывод : значение F1 наилучшее при depth = 16 и n_estimators = 60"
   ]
  },
  {
   "cell_type": "markdown",
   "metadata": {},
   "source": [
    "Решающее дерево:"
   ]
  },
  {
   "cell_type": "code",
   "execution_count": 50,
   "metadata": {},
   "outputs": [
    {
     "name": "stdout",
     "output_type": "stream",
     "text": [
      "depth = 1 : 0.0\n",
      "depth = 2 : 0.5643564356435643\n",
      "depth = 3 : 0.44012944983818775\n",
      "depth = 4 : 0.5730027548209367\n",
      "depth = 5 : 0.5212121212121212\n",
      "depth = 6 : 0.5754189944134078\n",
      "depth = 7 : 0.5729166666666667\n",
      "depth = 8 : 0.5464190981432361\n",
      "depth = 9 : 0.5343511450381679\n",
      "depth = 10 : 0.4961636828644501\n",
      "depth = 11 : 0.5206812652068126\n",
      "depth = 12 : 0.4964200477326968\n",
      "depth = 13 : 0.5069767441860464\n",
      "depth = 14 : 0.48291571753986334\n",
      "depth = 15 : 0.46220302375809935\n",
      "depth = 16 : 0.4605543710021322\n",
      "depth = 17 : 0.47133757961783435\n",
      "depth = 18 : 0.46413502109704635\n",
      "depth = 19 : 0.4742268041237114\n",
      "depth = 20 : 0.47835051546391755\n",
      "depth = 21 : 0.45041322314049587\n",
      "depth = 22 : 0.4462809917355372\n",
      "depth = 23 : 0.45252525252525255\n",
      "depth = 24 : 0.45252525252525255\n",
      "depth = 25 : 0.45252525252525255\n",
      "depth = 26 : 0.45252525252525255\n",
      "depth = 27 : 0.45252525252525255\n",
      "depth = 28 : 0.45252525252525255\n",
      "depth = 29 : 0.45252525252525255\n"
     ]
    }
   ],
   "source": [
    "#сначала подберем наилучший параметр depth:\n",
    "for depth in range(1, 30, 1):\n",
    "    model = DecisionTreeClassifier(max_depth=depth, random_state=12345)\n",
    "    model.fit(features_train, target_train)\n",
    "    predicted_valid = model.predict(features_valid)\n",
    "    f1 = f1_score(target_valid, predicted_valid)\n",
    "    print(\"depth =\", depth, \":\", f1)"
   ]
  },
  {
   "cell_type": "markdown",
   "metadata": {},
   "source": [
    "Показатели метрики F1 наибольшие при depth = 6, но хуже чем у RandomForestClassifier"
   ]
  },
  {
   "cell_type": "code",
   "execution_count": 51,
   "metadata": {},
   "outputs": [
    {
     "name": "stdout",
     "output_type": "stream",
     "text": [
      "0.65904117477685\n"
     ]
    }
   ],
   "source": [
    "probabilities_valid_dt = model.predict_proba(features_valid)\n",
    "probabilities_one_valid_dt = probabilities_valid_dt[:, 1]\n",
    "auc_roc = roc_auc_score(target_valid, probabilities_one_valid_dt)\n",
    "print(auc_roc)"
   ]
  },
  {
   "cell_type": "markdown",
   "metadata": {},
   "source": [
    "Вывод : F1 и ROC AUC лучше у модели RandomForestClassifier"
   ]
  },
  {
   "cell_type": "markdown",
   "metadata": {},
   "source": [
    "## Борьба с дисбалансом"
   ]
  },
  {
   "cell_type": "markdown",
   "metadata": {},
   "source": [
    "Проверим модели на сбалансированных классах :"
   ]
  },
  {
   "cell_type": "code",
   "execution_count": 52,
   "metadata": {},
   "outputs": [
    {
     "name": "stdout",
     "output_type": "stream",
     "text": [
      "F1: 0.5533333333333333\n"
     ]
    }
   ],
   "source": [
    "model_balanced = DecisionTreeClassifier(random_state=12345, max_depth=6, class_weight = 'balanced')\n",
    "model_balanced.fit(features_train, target_train)\n",
    "\n",
    "predicted_valid = model_balanced.predict(features_valid)\n",
    "f1_balanced = f1_score(target_valid, predicted_valid)\n",
    "print(\"F1:\", f1_balanced)"
   ]
  },
  {
   "cell_type": "code",
   "execution_count": 53,
   "metadata": {},
   "outputs": [
    {
     "name": "stdout",
     "output_type": "stream",
     "text": [
      "F1: 0.577319587628866\n"
     ]
    }
   ],
   "source": [
    "model_balanced_rf = RandomForestClassifier(n_estimators=60, random_state=12345, max_depth=16, class_weight = 'balanced')\n",
    "model_balanced_rf.fit(features_train, target_train)\n",
    "\n",
    "predicted_valid_rf = model_balanced_rf.predict(features_valid)\n",
    "f1_balanced_rf = f1_score(target_valid, predicted_valid_rf)\n",
    "print(\"F1:\", f1_balanced_rf)"
   ]
  },
  {
   "cell_type": "markdown",
   "metadata": {},
   "source": [
    "Наилучшие результаты показала модель RandomForestClassifier "
   ]
  },
  {
   "cell_type": "markdown",
   "metadata": {},
   "source": [
    "проверим методом увеличения выборки :"
   ]
  },
  {
   "cell_type": "code",
   "execution_count": 54,
   "metadata": {},
   "outputs": [],
   "source": [
    "#создадим функцию :\n",
    "\n",
    "def upsample(features, target, repeat):\n",
    "    features_zeros = features[target == 0]\n",
    "    features_ones = features[target == 1]\n",
    "    target_zeros = target[target == 0]\n",
    "    target_ones = target[target == 1]\n",
    "\n",
    "    features_upsampled = pd.concat([features_zeros] + [features_ones] * repeat)\n",
    "    target_upsampled = pd.concat([target_zeros] + [target_ones] * repeat)\n",
    "    \n",
    "    features_upsampled, target_upsampled = shuffle(\n",
    "        features_upsampled, target_upsampled, random_state=12345)\n",
    "    \n",
    "    return features_upsampled, target_upsampled"
   ]
  },
  {
   "cell_type": "code",
   "execution_count": 55,
   "metadata": {},
   "outputs": [
    {
     "name": "stdout",
     "output_type": "stream",
     "text": [
      "(11027, 11)\n",
      "(11027,)\n"
     ]
    }
   ],
   "source": [
    "features_upsampled, target_upsampled = upsample(features_train, target_train, 4)\n",
    "print(features_upsampled.shape)\n",
    "print(target_upsampled.shape)"
   ]
  },
  {
   "cell_type": "code",
   "execution_count": 56,
   "metadata": {},
   "outputs": [
    {
     "name": "stdout",
     "output_type": "stream",
     "text": [
      "F1: 0.6247191011235954\n"
     ]
    }
   ],
   "source": [
    "#проверим на увеличенной выборке модель RandomForestClassifier:\n",
    "\n",
    "model_balanced1 = RandomForestClassifier(n_estimators=60, random_state=12345, max_depth=16)\n",
    "model_balanced1.fit(features_upsampled, target_upsampled)\n",
    "\n",
    "predicted_valid1 = model_balanced1.predict(features_valid)\n",
    "f1_balanced1 = f1_score(target_valid, predicted_valid1)\n",
    "print(\"F1:\", f1_balanced1)"
   ]
  },
  {
   "cell_type": "code",
   "execution_count": 57,
   "metadata": {},
   "outputs": [
    {
     "name": "stdout",
     "output_type": "stream",
     "text": [
      "F1: 0.5561139028475712\n"
     ]
    }
   ],
   "source": [
    "#проверим на увеличенной выборке модель DecisionTreeClassifier:\n",
    "\n",
    "model_balanced2 = DecisionTreeClassifier(random_state=12345, max_depth=6)\n",
    "model_balanced2.fit(features_upsampled, target_upsampled)\n",
    "\n",
    "predicted_valid2 = model_balanced2.predict(features_valid)\n",
    "f1_balanced2 = f1_score(target_valid, predicted_valid2)\n",
    "print(\"F1:\", f1_balanced2)"
   ]
  },
  {
   "cell_type": "markdown",
   "metadata": {},
   "source": [
    "Вывод : значение F1 для модели RandomForestClassifier 0,6371 достаточно для выполнения задачи ."
   ]
  },
  {
   "cell_type": "markdown",
   "metadata": {},
   "source": [
    "## Тестирование модели"
   ]
  },
  {
   "cell_type": "markdown",
   "metadata": {},
   "source": [
    "протестируем модель RandomForestClassifier :"
   ]
  },
  {
   "cell_type": "code",
   "execution_count": 58,
   "metadata": {},
   "outputs": [
    {
     "name": "stdout",
     "output_type": "stream",
     "text": [
      "F1: 0.554016620498615\n"
     ]
    }
   ],
   "source": [
    "model = RandomForestClassifier(n_estimators=60, random_state=12345, max_depth=16,  class_weight = 'balanced')\n",
    "model.fit(features_train, target_train)\n",
    "\n",
    "predicted_test = model.predict(features_test)\n",
    "f1 = f1_score(target_test, predicted_test)\n",
    "print(\"F1:\", f1)"
   ]
  },
  {
   "cell_type": "code",
   "execution_count": 59,
   "metadata": {},
   "outputs": [
    {
     "name": "stdout",
     "output_type": "stream",
     "text": [
      "0.8497864478356849\n"
     ]
    }
   ],
   "source": [
    "probabilities_valid = model.predict_proba(features_valid)\n",
    "probabilities_one_valid = probabilities_valid[:, 1]\n",
    "\n",
    "\n",
    "auc_roc = roc_auc_score(target_valid, probabilities_one_valid)\n",
    "print(auc_roc)"
   ]
  },
  {
   "cell_type": "markdown",
   "metadata": {},
   "source": [
    "на тестовой выборке F1 0,55 что меньше заданного.\n"
   ]
  },
  {
   "cell_type": "code",
   "execution_count": 60,
   "metadata": {},
   "outputs": [
    {
     "name": "stdout",
     "output_type": "stream",
     "text": [
      "F1: 0.593548387096774\n"
     ]
    }
   ],
   "source": [
    "model = RandomForestClassifier(n_estimators=100, random_state=12345, max_depth=10,  class_weight = 'balanced')\n",
    "model.fit(features_train, target_train)\n",
    "\n",
    "predicted_test_1 = model.predict(features_test)\n",
    "f1 = f1_score(target_test, predicted_test_1)\n",
    "print(\"F1:\", f1)"
   ]
  },
  {
   "cell_type": "markdown",
   "metadata": {},
   "source": [
    "изменением параметрf depth до 10 и  n_estimators до 100 заданное значение достигнуто "
   ]
  },
  {
   "cell_type": "markdown",
   "metadata": {},
   "source": [
    "Проведена работа по созданию модели машинного обучения для определения клиентов вероятность ухода которых высока.\n",
    "На начальном этапе датесет был изучен , обработаны пропуски , удалены лишние столбцы.\n",
    "\n",
    "Далее датасет был подготовлен для обучения модели:\n",
    "разделен на обучающую , валидационную и тестовую выборки , обьектные переменные были переведены в численные .\n",
    "определен целевой признак и признаки \n",
    "\n",
    "проверен и выявлен дисбаланс классов.\n",
    "\n",
    "Обучены 2 модели , дерево принятия решений и случайный лес, на несбалансированной выборке с изменением гиперпараметров ,\n",
    "обученные модели проверены на валидационной выборке , лучшие результаты показала модель случайного леса.\n",
    "\n",
    "далее 2мя методами сбалансировав классы проверены модели ерево принятия решений и случайный лес, лучшие результаты получены на модели случайного леса.\n",
    "\n",
    "Результаты проверки выбранной модели на тестовой выборке с гиперпараметрами опледеленными ранее дали F1 0,554 что менее требуемого .\n",
    "После изменения гиперпараметров F1 = 0,59,35 что достаточно длявыполнения задания."
   ]
  },
  {
   "cell_type": "markdown",
   "metadata": {},
   "source": [
    "## Чек-лист готовности проекта"
   ]
  },
  {
   "cell_type": "markdown",
   "metadata": {},
   "source": [
    "Поставьте 'x' в выполненных пунктах. Далее нажмите Shift+Enter."
   ]
  },
  {
   "cell_type": "markdown",
   "metadata": {},
   "source": [
    "- [x]  Jupyter Notebook открыт\n",
    "- [х]  Весь код выполняется без ошибок\n",
    "- [х]  Ячейки с кодом расположены в порядке исполнения\n",
    "- [х]  Выполнен шаг 1: данные подготовлены\n",
    "- [х]  Выполнен шаг 2: задача исследована\n",
    "    - [х]  Исследован баланс классов\n",
    "    - [х]  Изучены модели без учёта дисбаланса\n",
    "    - [х]  Написаны выводы по результатам исследования\n",
    "- [х]  Выполнен шаг 3: учтён дисбаланс\n",
    "    - [х]  Применено несколько способов борьбы с дисбалансом\n",
    "    - [х]  Написаны выводы по результатам исследования\n",
    "- [х]  Выполнен шаг 4: проведено тестирование\n",
    "- [х]  Удалось достичь *F1*-меры не менее 0.59\n",
    "- [х]  Исследована метрика *AUC-ROC*"
   ]
  }
 ],
 "metadata": {
  "ExecuteTimeLog": [
   {
    "duration": 1197,
    "start_time": "2023-05-03T18:01:53.047Z"
   },
   {
    "duration": 190,
    "start_time": "2023-05-03T18:02:05.077Z"
   },
   {
    "duration": 9,
    "start_time": "2023-05-03T18:02:44.041Z"
   },
   {
    "duration": 13,
    "start_time": "2023-05-03T18:02:52.069Z"
   },
   {
    "duration": 25,
    "start_time": "2023-05-03T18:03:05.414Z"
   },
   {
    "duration": 8,
    "start_time": "2023-05-03T18:07:36.575Z"
   },
   {
    "duration": 10,
    "start_time": "2023-05-03T18:10:10.022Z"
   },
   {
    "duration": 13,
    "start_time": "2023-05-03T18:10:17.980Z"
   },
   {
    "duration": 6,
    "start_time": "2023-05-03T18:18:16.540Z"
   },
   {
    "duration": 14,
    "start_time": "2023-05-03T18:18:41.851Z"
   },
   {
    "duration": 10,
    "start_time": "2023-05-03T18:23:46.261Z"
   },
   {
    "duration": 11,
    "start_time": "2023-05-03T18:23:47.900Z"
   },
   {
    "duration": 6,
    "start_time": "2023-05-03T18:35:22.373Z"
   },
   {
    "duration": 8,
    "start_time": "2023-05-03T18:35:59.465Z"
   },
   {
    "duration": 7,
    "start_time": "2023-05-03T18:40:45.661Z"
   },
   {
    "duration": 6741,
    "start_time": "2023-05-03T19:01:16.610Z"
   },
   {
    "duration": 4591,
    "start_time": "2023-05-03T19:05:27.016Z"
   },
   {
    "duration": 4374,
    "start_time": "2023-05-03T19:05:53.431Z"
   },
   {
    "duration": 9181,
    "start_time": "2023-05-03T19:08:50.213Z"
   },
   {
    "duration": 178,
    "start_time": "2023-05-03T19:12:37.208Z"
   },
   {
    "duration": 59,
    "start_time": "2023-05-03T19:12:47.897Z"
   },
   {
    "duration": 878,
    "start_time": "2023-05-03T19:18:03.485Z"
   },
   {
    "duration": 4281,
    "start_time": "2023-05-03T19:19:12.960Z"
   },
   {
    "duration": 11556,
    "start_time": "2023-05-03T19:19:45.239Z"
   },
   {
    "duration": 68,
    "start_time": "2023-05-03T19:20:00.920Z"
   },
   {
    "duration": 1023,
    "start_time": "2023-05-03T19:20:15.716Z"
   },
   {
    "duration": 10,
    "start_time": "2023-05-03T19:22:20.459Z"
   },
   {
    "duration": 19,
    "start_time": "2023-05-03T19:25:24.807Z"
   },
   {
    "duration": 800,
    "start_time": "2023-05-03T19:26:34.976Z"
   },
   {
    "duration": 181,
    "start_time": "2023-05-03T19:27:46.010Z"
   },
   {
    "duration": 5,
    "start_time": "2023-05-03T19:53:58.203Z"
   },
   {
    "duration": 14,
    "start_time": "2023-05-03T19:54:10.799Z"
   },
   {
    "duration": 915,
    "start_time": "2023-05-03T19:57:04.076Z"
   },
   {
    "duration": 962,
    "start_time": "2023-05-03T19:57:53.873Z"
   },
   {
    "duration": 61,
    "start_time": "2023-05-03T19:58:08.440Z"
   },
   {
    "duration": 52,
    "start_time": "2023-05-03T19:58:51.515Z"
   },
   {
    "duration": 513,
    "start_time": "2023-05-03T20:09:04.820Z"
   },
   {
    "duration": 31,
    "start_time": "2023-05-03T20:10:18.348Z"
   },
   {
    "duration": 853,
    "start_time": "2023-05-03T20:11:16.777Z"
   },
   {
    "duration": 721,
    "start_time": "2023-05-03T20:11:31.540Z"
   },
   {
    "duration": 41,
    "start_time": "2023-05-03T20:11:38.179Z"
   },
   {
    "duration": 897,
    "start_time": "2023-05-03T20:11:51.182Z"
   },
   {
    "duration": 899,
    "start_time": "2023-05-03T20:12:04.189Z"
   },
   {
    "duration": 1010,
    "start_time": "2023-05-03T20:12:13.254Z"
   },
   {
    "duration": 510,
    "start_time": "2023-05-03T20:12:26.430Z"
   },
   {
    "duration": 42,
    "start_time": "2023-05-03T20:12:28.078Z"
   },
   {
    "duration": 6533,
    "start_time": "2023-05-03T20:15:02.129Z"
   },
   {
    "duration": 531,
    "start_time": "2023-05-03T20:15:30.791Z"
   },
   {
    "duration": 519,
    "start_time": "2023-05-03T20:15:39.575Z"
   },
   {
    "duration": 471,
    "start_time": "2023-05-03T20:16:32.439Z"
   },
   {
    "duration": 28,
    "start_time": "2023-05-03T20:32:33.915Z"
   },
   {
    "duration": 849,
    "start_time": "2023-05-03T20:32:42.337Z"
   },
   {
    "duration": 37,
    "start_time": "2023-05-03T20:32:45.504Z"
   },
   {
    "duration": 458,
    "start_time": "2023-05-03T20:32:50.677Z"
   },
   {
    "duration": 28,
    "start_time": "2023-05-03T20:32:53.536Z"
   },
   {
    "duration": 884,
    "start_time": "2023-05-03T20:35:00.059Z"
   },
   {
    "duration": 714,
    "start_time": "2023-05-03T20:35:10.453Z"
   },
   {
    "duration": 556,
    "start_time": "2023-05-03T20:35:30.486Z"
   },
   {
    "duration": 38,
    "start_time": "2023-05-03T20:35:33.081Z"
   },
   {
    "duration": 1231,
    "start_time": "2023-05-04T16:55:42.105Z"
   },
   {
    "duration": 75,
    "start_time": "2023-05-04T16:55:43.338Z"
   },
   {
    "duration": 20,
    "start_time": "2023-05-04T16:55:43.415Z"
   },
   {
    "duration": 13,
    "start_time": "2023-05-04T16:55:45.392Z"
   },
   {
    "duration": 6,
    "start_time": "2023-05-04T16:55:48.141Z"
   },
   {
    "duration": 8,
    "start_time": "2023-05-04T16:55:50.547Z"
   },
   {
    "duration": 12,
    "start_time": "2023-05-04T16:55:51.123Z"
   },
   {
    "duration": 4,
    "start_time": "2023-05-04T16:55:52.030Z"
   },
   {
    "duration": 11,
    "start_time": "2023-05-04T16:55:52.368Z"
   },
   {
    "duration": 11,
    "start_time": "2023-05-04T16:55:58.475Z"
   },
   {
    "duration": 11,
    "start_time": "2023-05-04T16:55:58.884Z"
   },
   {
    "duration": 5,
    "start_time": "2023-05-04T16:55:59.486Z"
   },
   {
    "duration": 8,
    "start_time": "2023-05-04T16:55:59.809Z"
   },
   {
    "duration": 5,
    "start_time": "2023-05-04T16:56:01.402Z"
   },
   {
    "duration": 5698,
    "start_time": "2023-05-04T16:56:04.659Z"
   },
   {
    "duration": 8328,
    "start_time": "2023-05-04T16:56:12.931Z"
   },
   {
    "duration": 54,
    "start_time": "2023-05-04T16:56:23.849Z"
   },
   {
    "duration": 815,
    "start_time": "2023-05-04T16:56:24.824Z"
   },
   {
    "duration": 48,
    "start_time": "2023-05-04T16:56:27.011Z"
   },
   {
    "duration": 8,
    "start_time": "2023-05-04T16:56:27.366Z"
   },
   {
    "duration": 7,
    "start_time": "2023-05-04T16:56:37.621Z"
   },
   {
    "duration": 19,
    "start_time": "2023-05-04T16:57:19.659Z"
   },
   {
    "duration": 154,
    "start_time": "2023-05-04T16:57:19.989Z"
   },
   {
    "duration": 5,
    "start_time": "2023-05-04T16:57:22.447Z"
   },
   {
    "duration": 11,
    "start_time": "2023-05-04T16:57:23.127Z"
   },
   {
    "duration": 671,
    "start_time": "2023-05-04T16:57:25.342Z"
   },
   {
    "duration": 29,
    "start_time": "2023-05-04T16:57:26.015Z"
   },
   {
    "duration": 455,
    "start_time": "2023-05-04T16:57:54.418Z"
   },
   {
    "duration": 31,
    "start_time": "2023-05-04T16:57:56.522Z"
   },
   {
    "duration": 736,
    "start_time": "2023-05-04T16:59:41.051Z"
   },
   {
    "duration": 759,
    "start_time": "2023-05-04T16:59:50.419Z"
   },
   {
    "duration": 618,
    "start_time": "2023-05-04T17:00:04.497Z"
   },
   {
    "duration": 392,
    "start_time": "2023-05-04T17:00:28.722Z"
   },
   {
    "duration": 432,
    "start_time": "2023-05-04T17:01:33.642Z"
   },
   {
    "duration": 261,
    "start_time": "2023-05-04T17:01:47.933Z"
   },
   {
    "duration": 616,
    "start_time": "2023-05-04T17:01:58.384Z"
   },
   {
    "duration": 2246,
    "start_time": "2023-05-05T05:35:32.309Z"
   },
   {
    "duration": 185,
    "start_time": "2023-05-05T05:35:34.558Z"
   },
   {
    "duration": 19,
    "start_time": "2023-05-05T05:35:34.745Z"
   },
   {
    "duration": 16,
    "start_time": "2023-05-05T05:35:34.766Z"
   },
   {
    "duration": 8,
    "start_time": "2023-05-05T05:35:34.784Z"
   },
   {
    "duration": 16,
    "start_time": "2023-05-05T05:35:34.794Z"
   },
   {
    "duration": 11,
    "start_time": "2023-05-05T05:35:34.812Z"
   },
   {
    "duration": 14,
    "start_time": "2023-05-05T05:35:34.826Z"
   },
   {
    "duration": 18,
    "start_time": "2023-05-05T05:35:34.842Z"
   },
   {
    "duration": 18,
    "start_time": "2023-05-05T05:35:34.862Z"
   },
   {
    "duration": 12,
    "start_time": "2023-05-05T05:35:34.882Z"
   },
   {
    "duration": 7,
    "start_time": "2023-05-05T05:35:34.896Z"
   },
   {
    "duration": 14,
    "start_time": "2023-05-05T05:35:34.904Z"
   },
   {
    "duration": 29,
    "start_time": "2023-05-05T05:35:34.921Z"
   },
   {
    "duration": 6374,
    "start_time": "2023-05-05T05:35:34.952Z"
   },
   {
    "duration": 12130,
    "start_time": "2023-05-05T05:35:41.329Z"
   },
   {
    "duration": 103,
    "start_time": "2023-05-05T05:35:53.461Z"
   },
   {
    "duration": 1989,
    "start_time": "2023-05-05T05:35:53.565Z"
   },
   {
    "duration": 9,
    "start_time": "2023-05-05T05:35:55.556Z"
   },
   {
    "duration": 15,
    "start_time": "2023-05-05T05:35:55.566Z"
   },
   {
    "duration": 293,
    "start_time": "2023-05-05T05:35:55.584Z"
   },
   {
    "duration": 4,
    "start_time": "2023-05-05T05:35:55.878Z"
   },
   {
    "duration": 68,
    "start_time": "2023-05-05T05:35:55.883Z"
   },
   {
    "duration": 1339,
    "start_time": "2023-05-05T05:35:55.952Z"
   },
   {
    "duration": 33,
    "start_time": "2023-05-05T05:35:57.348Z"
   },
   {
    "duration": 1000,
    "start_time": "2023-05-05T05:35:57.383Z"
   },
   {
    "duration": 82,
    "start_time": "2023-05-05T05:35:58.384Z"
   },
   {
    "duration": 1313,
    "start_time": "2023-05-05T05:35:58.467Z"
   },
   {
    "duration": 1480,
    "start_time": "2023-05-05T08:49:04.443Z"
   },
   {
    "duration": 348,
    "start_time": "2023-05-05T08:49:06.163Z"
   },
   {
    "duration": 21,
    "start_time": "2023-05-05T08:49:07.855Z"
   },
   {
    "duration": 16,
    "start_time": "2023-05-05T08:49:09.832Z"
   },
   {
    "duration": 9,
    "start_time": "2023-05-05T08:49:11.768Z"
   },
   {
    "duration": 8,
    "start_time": "2023-05-05T08:50:00.924Z"
   },
   {
    "duration": 20,
    "start_time": "2023-05-05T08:50:22.303Z"
   },
   {
    "duration": 6,
    "start_time": "2023-05-05T08:50:25.487Z"
   },
   {
    "duration": 13,
    "start_time": "2023-05-05T08:50:28.056Z"
   },
   {
    "duration": 10,
    "start_time": "2023-05-05T08:50:30.551Z"
   },
   {
    "duration": 11,
    "start_time": "2023-05-05T08:50:35.927Z"
   },
   {
    "duration": 6,
    "start_time": "2023-05-05T08:50:37.113Z"
   },
   {
    "duration": 9,
    "start_time": "2023-05-05T08:50:37.627Z"
   },
   {
    "duration": 7,
    "start_time": "2023-05-05T08:51:31.810Z"
   },
   {
    "duration": 5792,
    "start_time": "2023-05-05T08:51:43.670Z"
   },
   {
    "duration": 7819,
    "start_time": "2023-05-05T08:51:49.671Z"
   },
   {
    "duration": 55,
    "start_time": "2023-05-05T08:52:01.519Z"
   },
   {
    "duration": 878,
    "start_time": "2023-05-05T08:52:07.076Z"
   },
   {
    "duration": 8,
    "start_time": "2023-05-05T08:52:13.131Z"
   },
   {
    "duration": 31,
    "start_time": "2023-05-05T08:56:07.868Z"
   },
   {
    "duration": 451,
    "start_time": "2023-05-05T08:57:05.091Z"
   },
   {
    "duration": 477,
    "start_time": "2023-05-05T09:01:49.083Z"
   },
   {
    "duration": 146,
    "start_time": "2023-05-05T09:02:11.399Z"
   },
   {
    "duration": 433,
    "start_time": "2023-05-05T09:02:19.128Z"
   },
   {
    "duration": 4,
    "start_time": "2023-05-05T09:02:23.116Z"
   },
   {
    "duration": 12,
    "start_time": "2023-05-05T09:02:26.924Z"
   },
   {
    "duration": 124,
    "start_time": "2023-05-05T09:03:46.432Z"
   },
   {
    "duration": 657,
    "start_time": "2023-05-05T09:03:57.971Z"
   },
   {
    "duration": 30,
    "start_time": "2023-05-05T09:03:59.535Z"
   },
   {
    "duration": 458,
    "start_time": "2023-05-05T09:04:08.341Z"
   },
   {
    "duration": 28,
    "start_time": "2023-05-05T09:04:09.555Z"
   },
   {
    "duration": 679,
    "start_time": "2023-05-05T09:04:24.004Z"
   },
   {
    "duration": 4,
    "start_time": "2023-05-05T09:09:29.755Z"
   },
   {
    "duration": 40,
    "start_time": "2023-05-05T09:09:29.963Z"
   },
   {
    "duration": 14,
    "start_time": "2023-05-05T09:09:30.575Z"
   },
   {
    "duration": 13,
    "start_time": "2023-05-05T09:09:30.920Z"
   },
   {
    "duration": 5,
    "start_time": "2023-05-05T09:09:31.803Z"
   },
   {
    "duration": 7,
    "start_time": "2023-05-05T09:09:32.975Z"
   },
   {
    "duration": 12,
    "start_time": "2023-05-05T09:09:33.716Z"
   },
   {
    "duration": 4,
    "start_time": "2023-05-05T09:09:34.451Z"
   },
   {
    "duration": 11,
    "start_time": "2023-05-05T09:09:35.191Z"
   },
   {
    "duration": 10,
    "start_time": "2023-05-05T09:09:35.943Z"
   },
   {
    "duration": 12,
    "start_time": "2023-05-05T09:09:36.927Z"
   },
   {
    "duration": 6,
    "start_time": "2023-05-05T09:09:37.391Z"
   },
   {
    "duration": 6,
    "start_time": "2023-05-05T09:09:37.608Z"
   },
   {
    "duration": 6,
    "start_time": "2023-05-05T09:09:41.487Z"
   },
   {
    "duration": 5765,
    "start_time": "2023-05-05T09:09:43.804Z"
   },
   {
    "duration": 7954,
    "start_time": "2023-05-05T09:09:49.571Z"
   },
   {
    "duration": 61,
    "start_time": "2023-05-05T09:09:57.526Z"
   },
   {
    "duration": 842,
    "start_time": "2023-05-05T09:09:57.589Z"
   },
   {
    "duration": 7,
    "start_time": "2023-05-05T09:09:58.432Z"
   },
   {
    "duration": 43,
    "start_time": "2023-05-05T09:09:58.440Z"
   },
   {
    "duration": 513,
    "start_time": "2023-05-05T09:10:00.260Z"
   },
   {
    "duration": 4,
    "start_time": "2023-05-05T09:10:02.349Z"
   },
   {
    "duration": 16,
    "start_time": "2023-05-05T09:10:04.819Z"
   },
   {
    "duration": 598,
    "start_time": "2023-05-05T09:10:06.015Z"
   },
   {
    "duration": 32,
    "start_time": "2023-05-05T09:10:07.215Z"
   },
   {
    "duration": 491,
    "start_time": "2023-05-05T09:10:11.645Z"
   },
   {
    "duration": 27,
    "start_time": "2023-05-05T09:10:14.659Z"
   },
   {
    "duration": 584,
    "start_time": "2023-05-05T09:10:16.359Z"
   }
  ],
  "kernelspec": {
   "display_name": "Python 3 (ipykernel)",
   "language": "python",
   "name": "python3"
  },
  "language_info": {
   "codemirror_mode": {
    "name": "ipython",
    "version": 3
   },
   "file_extension": ".py",
   "mimetype": "text/x-python",
   "name": "python",
   "nbconvert_exporter": "python",
   "pygments_lexer": "ipython3",
   "version": "3.9.7"
  },
  "toc": {
   "base_numbering": 1,
   "nav_menu": {},
   "number_sections": true,
   "sideBar": true,
   "skip_h1_title": true,
   "title_cell": "Содержание",
   "title_sidebar": "Contents",
   "toc_cell": true,
   "toc_position": {},
   "toc_section_display": true,
   "toc_window_display": true
  }
 },
 "nbformat": 4,
 "nbformat_minor": 2
}
